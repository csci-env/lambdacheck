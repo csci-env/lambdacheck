{
 "cells": [
  {
   "cell_type": "code",
   "execution_count": 1,
   "id": "ac810001-2d7b-4bdb-bab7-b0853a0b1f4a",
   "metadata": {},
   "outputs": [],
   "source": [
    "import sys\n",
    "from importlib import reload\n",
    "sys.path.append('..')\n",
    "import lambdacheck\n",
    "import lambdacheck.cli\n",
    "reload(lambdacheck)\n",
    "reload(lambdacheck.cli);"
   ]
  },
  {
   "cell_type": "markdown",
   "id": "d9379517-b15f-45c4-8316-4236b783e3d5",
   "metadata": {},
   "source": [
    "# Generating worksheet"
   ]
  },
  {
   "cell_type": "code",
   "execution_count": 2,
   "id": "1b9ed97e-e50f-45ea-9e23-10e0cbff25d6",
   "metadata": {},
   "outputs": [
    {
     "data": {
      "text/html": [
       "<pre style=\"white-space:pre;overflow-x:auto;line-height:normal;font-family:Menlo,'DejaVu Sans Mono',consolas,'Courier New',monospace\">&gt; worksheet.ipynb\n",
       "</pre>\n"
      ],
      "text/plain": [
       "> worksheet.ipynb\n"
      ]
     },
     "metadata": {},
     "output_type": "display_data"
    },
    {
     "data": {
      "text/html": [
       "<pre style=\"white-space:pre;overflow-x:auto;line-height:normal;font-family:Menlo,'DejaVu Sans Mono',consolas,'Courier New',monospace\">&gt; checks.json\n",
       "</pre>\n"
      ],
      "text/plain": [
       "> checks.json\n"
      ]
     },
     "metadata": {},
     "output_type": "display_data"
    },
    {
     "data": {
      "text/html": [
       "<pre style=\"white-space:pre;overflow-x:auto;line-height:normal;font-family:Menlo,'DejaVu Sans Mono',consolas,'Courier New',monospace\">&gt; tests.json\n",
       "</pre>\n"
      ],
      "text/plain": [
       "> tests.json\n"
      ]
     },
     "metadata": {},
     "output_type": "display_data"
    }
   ],
   "source": [
    "lambdacheck.cli.Generate()"
   ]
  }
 ],
 "metadata": {
  "kernelspec": {
   "display_name": "Python 3 (ipykernel)",
   "language": "python",
   "name": "python3"
  },
  "language_info": {
   "codemirror_mode": {
    "name": "ipython",
    "version": 3
   },
   "file_extension": ".py",
   "mimetype": "text/x-python",
   "name": "python",
   "nbconvert_exporter": "python",
   "pygments_lexer": "ipython3",
   "version": "3.10.4"
  }
 },
 "nbformat": 4,
 "nbformat_minor": 5
}
