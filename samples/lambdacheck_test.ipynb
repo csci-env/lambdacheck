{
 "cells": [
  {
   "cell_type": "code",
   "execution_count": 2,
   "id": "7eab544a-4acb-4076-b13b-c6d52d62125f",
   "metadata": {},
   "outputs": [],
   "source": [
    "import sys\n",
    "from importlib import reload\n",
    "sys.path.append('..')\n",
    "import lambdacheck\n",
    "import lambdacheck.cli\n",
    "reload(lambdacheck)\n",
    "reload(lambdacheck.cli);"
   ]
  },
  {
   "cell_type": "code",
   "execution_count": 3,
   "id": "0e26e65e-78bf-4f06-811c-3111c3ead318",
   "metadata": {},
   "outputs": [
    {
     "name": "stdout",
     "output_type": "stream",
     "text": [
      "albert_einstein,0.0,3.0\n"
     ]
    }
   ],
   "source": [
    "lambdacheck.cli.Test('albert_einstein')"
   ]
  },
  {
   "cell_type": "code",
   "execution_count": null,
   "id": "04fb1353-e8eb-4da4-8906-08f144c779fc",
   "metadata": {},
   "outputs": [],
   "source": []
  }
 ],
 "metadata": {
  "kernelspec": {
   "display_name": "Python 3 (ipykernel)",
   "language": "python",
   "name": "python3"
  },
  "language_info": {
   "codemirror_mode": {
    "name": "ipython",
    "version": 3
   },
   "file_extension": ".py",
   "mimetype": "text/x-python",
   "name": "python",
   "nbconvert_exporter": "python",
   "pygments_lexer": "ipython3",
   "version": "3.10.4"
  }
 },
 "nbformat": 4,
 "nbformat_minor": 5
}
