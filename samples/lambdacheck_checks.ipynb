{
 "cells": [
  {
   "cell_type": "code",
   "execution_count": 1,
   "id": "6743b891-56a2-4968-b6a4-513f0fdc4f9c",
   "metadata": {},
   "outputs": [],
   "source": [
    "import sys\n",
    "from importlib import reload\n",
    "sys.path.append('..')\n",
    "import lambdacheck\n",
    "import lambdacheck.cli\n",
    "reload(lambdacheck)\n",
    "reload(lambdacheck.cli);"
   ]
  },
  {
   "cell_type": "code",
   "execution_count": 2,
   "id": "b9bca4f8-9961-492e-b9c4-5adfc9965f14",
   "metadata": {},
   "outputs": [
    {
     "data": {
      "text/html": [
       "<pre style=\"white-space:pre;overflow-x:auto;line-height:normal;font-family:Menlo,'DejaVu Sans Mono',consolas,'Courier New',monospace\">╭─────────────────────────────────────────────────────────────────────────────────────────────────────────────────╮\n",
       "│ <span style=\"font-weight: bold; text-decoration: underline\">1. check 1</span>                                                                                                      │\n",
       "│                                                                                                                 │\n",
       "│ <span style=\"color: #800000; text-decoration-color: #800000\">Failure: 0.00% using exact matching</span>                                                                             │\n",
       "│                                                                                                                 │\n",
       "│ <span style=\"color: #000000; text-decoration-color: #000000\">╭─ Submitted empty ─╮</span> <span style=\"color: #000000; text-decoration-color: #000000\">╭─ Expected execute_result ─╮</span>                                                             │\n",
       "│ <span style=\"color: #000000; text-decoration-color: #000000\">│                   │</span> <span style=\"color: #000000; text-decoration-color: #000000\">│ True                      │</span>                                                             │\n",
       "│ <span style=\"color: #000000; text-decoration-color: #000000\">╰───────────────────╯</span> <span style=\"color: #000000; text-decoration-color: #000000\">╰───────────────────────────╯</span>                                                             │\n",
       "│ <span style=\"font-weight: bold\">                                                                                                      0.0 / 1.0</span> │\n",
       "╰─────────────────────────────────────────────────────────────────────────────────────────────────────────────────╯\n",
       "</pre>\n"
      ],
      "text/plain": [
       "╭─────────────────────────────────────────────────────────────────────────────────────────────────────────────────╮\n",
       "│ \u001b[1;4m1. check 1\u001b[0m                                                                                                      │\n",
       "│                                                                                                                 │\n",
       "│ \u001b[31mFailure: 0.00% using exact matching\u001b[0m                                                                             │\n",
       "│                                                                                                                 │\n",
       "│ \u001b[30m╭─\u001b[0m\u001b[30m Submitted empty \u001b[0m\u001b[30m─╮\u001b[0m \u001b[30m╭─\u001b[0m\u001b[30m Expected execute_result \u001b[0m\u001b[30m─╮\u001b[0m                                                             │\n",
       "│ \u001b[30m│\u001b[0m\u001b[30m \u001b[0m\u001b[30m                 \u001b[0m\u001b[30m \u001b[0m\u001b[30m│\u001b[0m \u001b[30m│\u001b[0m\u001b[30m \u001b[0m\u001b[30mTrue                     \u001b[0m\u001b[30m \u001b[0m\u001b[30m│\u001b[0m                                                             │\n",
       "│ \u001b[30m╰───────────────────╯\u001b[0m \u001b[30m╰───────────────────────────╯\u001b[0m                                                             │\n",
       "│ \u001b[1m                                                                                                      0.0 / 1.0\u001b[0m │\n",
       "╰─────────────────────────────────────────────────────────────────────────────────────────────────────────────────╯\n"
      ]
     },
     "metadata": {},
     "output_type": "display_data"
    },
    {
     "data": {
      "text/html": [
       "<pre style=\"white-space:pre;overflow-x:auto;line-height:normal;font-family:Menlo,'DejaVu Sans Mono',consolas,'Courier New',monospace\">\n",
       "</pre>\n"
      ],
      "text/plain": [
       "\n"
      ]
     },
     "metadata": {},
     "output_type": "display_data"
    },
    {
     "data": {
      "text/html": [
       "<pre style=\"white-space:pre;overflow-x:auto;line-height:normal;font-family:Menlo,'DejaVu Sans Mono',consolas,'Courier New',monospace\">╭─────────────────────────────────────────────────────────────────────────────────────────────────────────────────╮\n",
       "│ <span style=\"font-weight: bold; text-decoration: underline\">2. check 2</span>                                                                                                      │\n",
       "│                                                                                                                 │\n",
       "│ <span style=\"color: #800000; text-decoration-color: #800000\">Failure: 0.00% using exact matching</span>                                                                             │\n",
       "│                                                                                                                 │\n",
       "│ <span style=\"color: #000000; text-decoration-color: #000000\">╭─ Submitted empty ─╮</span> <span style=\"color: #000000; text-decoration-color: #000000\">╭─ Expected execute_result ─╮</span>                                                             │\n",
       "│ <span style=\"color: #000000; text-decoration-color: #000000\">│                   │</span> <span style=\"color: #000000; text-decoration-color: #000000\">│ False                     │</span>                                                             │\n",
       "│ <span style=\"color: #000000; text-decoration-color: #000000\">╰───────────────────╯</span> <span style=\"color: #000000; text-decoration-color: #000000\">╰───────────────────────────╯</span>                                                             │\n",
       "│ <span style=\"font-weight: bold\">                                                                                                      0.0 / 1.0</span> │\n",
       "╰─────────────────────────────────────────────────────────────────────────────────────────────────────────────────╯\n",
       "</pre>\n"
      ],
      "text/plain": [
       "╭─────────────────────────────────────────────────────────────────────────────────────────────────────────────────╮\n",
       "│ \u001b[1;4m2. check 2\u001b[0m                                                                                                      │\n",
       "│                                                                                                                 │\n",
       "│ \u001b[31mFailure: 0.00% using exact matching\u001b[0m                                                                             │\n",
       "│                                                                                                                 │\n",
       "│ \u001b[30m╭─\u001b[0m\u001b[30m Submitted empty \u001b[0m\u001b[30m─╮\u001b[0m \u001b[30m╭─\u001b[0m\u001b[30m Expected execute_result \u001b[0m\u001b[30m─╮\u001b[0m                                                             │\n",
       "│ \u001b[30m│\u001b[0m\u001b[30m \u001b[0m\u001b[30m                 \u001b[0m\u001b[30m \u001b[0m\u001b[30m│\u001b[0m \u001b[30m│\u001b[0m\u001b[30m \u001b[0m\u001b[30mFalse                    \u001b[0m\u001b[30m \u001b[0m\u001b[30m│\u001b[0m                                                             │\n",
       "│ \u001b[30m╰───────────────────╯\u001b[0m \u001b[30m╰───────────────────────────╯\u001b[0m                                                             │\n",
       "│ \u001b[1m                                                                                                      0.0 / 1.0\u001b[0m │\n",
       "╰─────────────────────────────────────────────────────────────────────────────────────────────────────────────────╯\n"
      ]
     },
     "metadata": {},
     "output_type": "display_data"
    },
    {
     "data": {
      "text/html": [
       "<pre style=\"white-space:pre;overflow-x:auto;line-height:normal;font-family:Menlo,'DejaVu Sans Mono',consolas,'Courier New',monospace\">\n",
       "</pre>\n"
      ],
      "text/plain": [
       "\n"
      ]
     },
     "metadata": {},
     "output_type": "display_data"
    },
    {
     "data": {
      "text/html": [
       "<pre style=\"white-space:pre;overflow-x:auto;line-height:normal;font-family:Menlo,'DejaVu Sans Mono',consolas,'Courier New',monospace\">┏━━━━━━━┳━━━━━━━┓\n",
       "┃<span style=\"font-weight: bold\"> Grade </span>┃<span style=\"font-weight: bold\"> Total </span>┃\n",
       "┡━━━━━━━╇━━━━━━━┩\n",
       "│ 0.0   │ 2.0   │\n",
       "└───────┴───────┘\n",
       "</pre>\n"
      ],
      "text/plain": [
       "┏━━━━━━━┳━━━━━━━┓\n",
       "┃\u001b[1m \u001b[0m\u001b[1mGrade\u001b[0m\u001b[1m \u001b[0m┃\u001b[1m \u001b[0m\u001b[1mTotal\u001b[0m\u001b[1m \u001b[0m┃\n",
       "┡━━━━━━━╇━━━━━━━┩\n",
       "│ 0.0   │ 2.0   │\n",
       "└───────┴───────┘\n"
      ]
     },
     "metadata": {},
     "output_type": "display_data"
    }
   ],
   "source": [
    "lambdacheck.cli.Check()"
   ]
  },
  {
   "cell_type": "code",
   "execution_count": null,
   "id": "1c46fbb2-08a4-457e-9746-eb8efc968bd7",
   "metadata": {},
   "outputs": [],
   "source": []
  }
 ],
 "metadata": {
  "kernelspec": {
   "display_name": "Python 3 (ipykernel)",
   "language": "python",
   "name": "python3"
  },
  "language_info": {
   "codemirror_mode": {
    "name": "ipython",
    "version": 3
   },
   "file_extension": ".py",
   "mimetype": "text/x-python",
   "name": "python",
   "nbconvert_exporter": "python",
   "pygments_lexer": "ipython3",
   "version": "3.10.4"
  }
 },
 "nbformat": 4,
 "nbformat_minor": 5
}
