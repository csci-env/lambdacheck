{
 "cells": [
  {
   "cell_type": "markdown",
   "id": "10bc124b-4523-453a-989c-0e072ce2d098",
   "metadata": {
    "editable": false
   },
   "source": [
    "# An assignment on basics of programming"
   ]
  },
  {
   "cell_type": "code",
   "execution_count": null,
   "id": "3fe0fe19-3ec3-4d01-a81b-2a5da0273809",
   "metadata": {
    "editable": false
   },
   "outputs": [],
   "source": [
    "\"🔒\"\n",
    "from typing import List"
   ]
  },
  {
   "cell_type": "markdown",
   "id": "ac661adf-ccc8-41d1-ab9d-26187b3313e9",
   "metadata": {
    "editable": false,
    "tags": []
   },
   "source": [
    "## Search"
   ]
  },
  {
   "cell_type": "code",
   "execution_count": 6,
   "id": "d32ac6ec",
   "metadata": {},
   "outputs": [],
   "source": [
    "\"✍️\"\n",
    "# @workUnit\n",
    "\n",
    "def search(array: List, element) -> bool:\n",
    "    return element in array"
   ]
  },
  {
   "cell_type": "code",
   "execution_count": 7,
   "id": "5a928274-7b6b-42d9-9930-202366272e90",
   "metadata": {
    "editable": false
   },
   "outputs": [
    {
     "data": {
      "text/plain": [
       "True"
      ]
     },
     "execution_count": 7,
     "metadata": {},
     "output_type": "execute_result"
    }
   ],
   "source": [
    "\"🔒\"\n",
    "# @check\n",
    "# @title: check 1\n",
    "\n",
    "search([1,2,3], 3)"
   ]
  },
  {
   "cell_type": "code",
   "execution_count": 8,
   "id": "a13a5f8c-fa08-440b-bc3d-c5b1b66d9d95",
   "metadata": {
    "editable": false
   },
   "outputs": [
    {
     "data": {
      "text/plain": [
       "False"
      ]
     },
     "execution_count": 8,
     "metadata": {},
     "output_type": "execute_result"
    }
   ],
   "source": [
    "\"🔒\"\n",
    "# @check\n",
    "# @title: check 2\n",
    "search([1,2,3], 4)"
   ]
  },
  {
   "cell_type": "code",
   "execution_count": 9,
   "id": "debdcf2c-093b-4df0-b4b7-4e926e605c90",
   "metadata": {
    "editable": false
   },
   "outputs": [
    {
     "data": {
      "text/plain": [
       "False"
      ]
     },
     "execution_count": 9,
     "metadata": {},
     "output_type": "execute_result"
    }
   ],
   "source": [
    "\"🔒\"\n",
    "# @test\n",
    "# @title: actual test\n",
    "\n",
    "search([], 3)"
   ]
  },
  {
   "cell_type": "code",
   "execution_count": null,
   "id": "5da6aa7b-0df0-408c-8627-f897688350a3",
   "metadata": {},
   "outputs": [],
   "source": []
  }
 ],
 "metadata": {
  "kernelspec": {
   "display_name": "Python 3 (ipykernel)",
   "language": "python",
   "name": "python3"
  },
  "language_info": {
   "codemirror_mode": {
    "name": "ipython",
    "version": 3
   },
   "file_extension": ".py",
   "mimetype": "text/x-python",
   "name": "python",
   "nbconvert_exporter": "python",
   "pygments_lexer": "ipython3",
   "version": "3.10.4"
  }
 },
 "nbformat": 4,
 "nbformat_minor": 5
}
